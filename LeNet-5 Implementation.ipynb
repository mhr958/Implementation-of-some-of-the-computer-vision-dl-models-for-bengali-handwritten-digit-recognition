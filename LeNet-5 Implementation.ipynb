{
 "cells": [
  {
   "cell_type": "code",
   "execution_count": 1,
   "id": "c31eac6c",
   "metadata": {
    "ExecuteTime": {
     "end_time": "2024-07-15T11:32:05.296916Z",
     "start_time": "2024-07-15T11:32:00.112350Z"
    }
   },
   "outputs": [],
   "source": [
    "# all imports\n",
    "from necessary_functions import get_numtadb_training_data\n",
    "import numpy as np\n",
    "import tensorflow as tf\n",
    "import cv2\n",
    "import matplotlib.pyplot as plt"
   ]
  },
  {
   "cell_type": "markdown",
   "id": "b36a0430",
   "metadata": {},
   "source": [
    "# Data Loading"
   ]
  },
  {
   "cell_type": "code",
   "execution_count": 2,
   "id": "7678a3c5",
   "metadata": {
    "ExecuteTime": {
     "end_time": "2024-07-14T13:14:56.121742Z",
     "start_time": "2024-07-14T13:09:14.116372Z"
    },
    "deletable": false,
    "editable": false,
    "run_control": {
     "frozen": true
    }
   },
   "outputs": [
    {
     "name": "stdout",
     "output_type": "stream",
     "text": [
      "Dataset Loading is Complete\n"
     ]
    }
   ],
   "source": [
    "images, labels = get_numtadb_training_data(\n",
    "    dataset_directory=\"NumtaDB_Bengali Handwritten Digits/\", img_resize_size=(32, 32)\n",
    ")"
   ]
  },
  {
   "cell_type": "code",
   "execution_count": 3,
   "id": "d92bb39d",
   "metadata": {
    "ExecuteTime": {
     "end_time": "2024-07-14T13:22:10.305746Z",
     "start_time": "2024-07-14T13:22:10.297410Z"
    },
    "deletable": false,
    "editable": false,
    "run_control": {
     "frozen": true
    }
   },
   "outputs": [
    {
     "name": "stdout",
     "output_type": "stream",
     "text": [
      "72045 72045\n"
     ]
    }
   ],
   "source": [
    "# total number of images\n",
    "print(len(images), len(labels))"
   ]
  },
  {
   "cell_type": "code",
   "execution_count": 4,
   "id": "dabd0b0b",
   "metadata": {
    "ExecuteTime": {
     "end_time": "2024-07-14T13:22:13.360412Z",
     "start_time": "2024-07-14T13:22:13.345645Z"
    },
    "deletable": false,
    "editable": false,
    "run_control": {
     "frozen": true
    }
   },
   "outputs": [],
   "source": [
    "np.random.seed(7)\n",
    "# generate indices for masking and shuffling them\n",
    "index = list(range(len(labels)))\n",
    "np.random.shuffle(index)"
   ]
  },
  {
   "cell_type": "code",
   "execution_count": 5,
   "id": "c44d4f52",
   "metadata": {
    "ExecuteTime": {
     "end_time": "2024-07-14T13:22:16.345031Z",
     "start_time": "2024-07-14T13:22:16.161364Z"
    },
    "deletable": false,
    "editable": false,
    "run_control": {
     "frozen": true
    }
   },
   "outputs": [],
   "source": [
    "# now we will take 80% of the data as train set and 20% as test set\n",
    "train_amount = int(len(labels)*0.8)\n",
    "X_train = images[index[:train_amount]]\n",
    "X_test = images[index[train_amount:]]\n",
    "y_train = labels[index[:train_amount]]\n",
    "y_test = labels[index[train_amount:]]"
   ]
  },
  {
   "cell_type": "code",
   "execution_count": 6,
   "id": "7967650d",
   "metadata": {
    "ExecuteTime": {
     "end_time": "2024-07-14T13:22:27.696419Z",
     "start_time": "2024-07-14T13:22:27.369786Z"
    },
    "deletable": false,
    "editable": false,
    "run_control": {
     "frozen": true
    }
   },
   "outputs": [
    {
     "name": "stdout",
     "output_type": "stream",
     "text": [
      "The corresponding label is 5\n"
     ]
    },
    {
     "data": {
      "image/png": "[encoded data removed]",
      "text/plain": [
       "<Figure size 640x480 with 1 Axes>"
      ]
     },
     "metadata": {},
     "output_type": "display_data"
    }
   ],
   "source": [
    "# sanity check 1\n",
    "plt.imshow(X_train[57], 'gray')\n",
    "print(f\"The corresponding label is {y_train[57]}\")"
   ]
  },
  {
   "cell_type": "code",
   "execution_count": 7,
   "id": "29ec1173",
   "metadata": {
    "ExecuteTime": {
     "end_time": "2024-07-14T13:22:31.344259Z",
     "start_time": "2024-07-14T13:22:31.337709Z"
    },
    "deletable": false,
    "editable": false,
    "run_control": {
     "frozen": true
    }
   },
   "outputs": [
    {
     "name": "stdout",
     "output_type": "stream",
     "text": [
      "Size of training data are 57636 and 57636\n",
      "Size of testing data are 14409 and 14409\n"
     ]
    }
   ],
   "source": [
    "# sanity check 2\n",
    "print(f\"Size of training data are {len(X_train)} and {len(y_train)}\")\n",
    "print(f\"Size of testing data are {len(X_test)} and {len(y_test)}\")"
   ]
  },
  {
   "cell_type": "markdown",
   "id": "07cbf7c0",
   "metadata": {},
   "source": [
    "# LeNet-5 Model Definition"
   ]
  },
  {
   "cell_type": "markdown",
   "id": "10b1a208",
   "metadata": {},
   "source": [
    "![LeNet-5 Architecture](The-LeNet-5-Architecture-a-convolutional-neural-network-1505081267.png)"
   ]
  },
  {
   "cell_type": "markdown",
   "id": "76e34b49",
   "metadata": {},
   "source": [
    "The above figure shows the LeNet-5 Architecture and we are going to implement it using tensorflow"
   ]
  },
  {
   "cell_type": "code",
   "execution_count": 2,
   "id": "652a44d9",
   "metadata": {
    "ExecuteTime": {
     "end_time": "2024-07-15T11:32:28.932542Z",
     "start_time": "2024-07-15T11:32:28.736155Z"
    }
   },
   "outputs": [],
   "source": [
    "# initializing the model\n",
    "LeNet5 = tf.keras.models.Sequential()\n",
    "# definign the input shape\n",
    "LeNet5.add(tf.keras.layers.Input(shape=(32, 32, 1)))\n",
    "# C1 layer: 6 filters of 5x5 size with valid padding\n",
    "LeNet5.add(\n",
    "    tf.keras.layers.Conv2D(\n",
    "        filters=6,\n",
    "        kernel_size=(5, 5),\n",
    "        strides=(1, 1),\n",
    "        padding=\"valid\",\n",
    "        activation=\"tanh\",\n",
    "    )\n",
    ")\n",
    "# S2 layer: average pooling with strides 2 and pool_size of 2x2 and no padding\n",
    "LeNet5.add(\n",
    "    tf.keras.layers.AveragePooling2D(\n",
    "        pool_size=(2, 2),\n",
    "        strides=(2, 2),\n",
    "        padding=\"valid\",\n",
    "    )\n",
    ")\n",
    "# C3 layer: 16 filters of 5x5 size with valid padding\n",
    "LeNet5.add(\n",
    "    tf.keras.layers.Conv2D(\n",
    "        filters=16,\n",
    "        kernel_size=(5, 5),\n",
    "        strides=(1, 1),\n",
    "        padding=\"valid\",\n",
    "        activation=\"tanh\",\n",
    "    )\n",
    ")\n",
    "# S4 layer: average pooling with strides 2 and pool_size of 2x2 and no padding\n",
    "LeNet5.add(\n",
    "    tf.keras.layers.AveragePooling2D(\n",
    "        pool_size=(2, 2),\n",
    "        strides=(2, 2),\n",
    "        padding=\"valid\",\n",
    "    )\n",
    ")\n",
    "# C5 layer: a fully connected layer with 120 units\n",
    "# to connect S4 to C5 we first need to flatten the output of the S4 layer\n",
    "LeNet5.add(tf.keras.layers.Flatten())\n",
    "LeNet5.add(tf.keras.layers.Dense(units=120, activation='tanh'))\n",
    "# F6 layer: a fully connected layer with 84 units\n",
    "LeNet5.add(tf.keras.layers.Dense(units=84, activation='tanh'))\n",
    "# OUTPUT layer: layeer with 10 units used to classify the 10 digits\n",
    "LeNet5.add(tf.keras.layers.Dense(units=10, activation='softmax'))"
   ]
  },
  {
   "cell_type": "code",
   "execution_count": 10,
   "id": "9e3e1908",
   "metadata": {
    "ExecuteTime": {
     "end_time": "2024-07-14T13:22:50.658859Z",
     "start_time": "2024-07-14T13:22:50.625442Z"
    },
    "deletable": false,
    "editable": false,
    "run_control": {
     "frozen": true
    }
   },
   "outputs": [
    {
     "name": "stdout",
     "output_type": "stream",
     "text": [
      "Model: \"sequential\"\n",
      "_________________________________________________________________\n",
      " Layer (type)                Output Shape              Param #   \n",
      "=================================================================\n",
      " conv2d (Conv2D)             (None, 28, 28, 6)         156       \n",
      "                                                                 \n",
      " average_pooling2d (Average  (None, 14, 14, 6)         0         \n",
      " Pooling2D)                                                      \n",
      "                                                                 \n",
      " conv2d_1 (Conv2D)           (None, 10, 10, 16)        2416      \n",
      "                                                                 \n",
      " average_pooling2d_1 (Avera  (None, 5, 5, 16)          0         \n",
      " gePooling2D)                                                    \n",
      "                                                                 \n",
      " flatten (Flatten)           (None, 400)               0         \n",
      "                                                                 \n",
      " dense (Dense)               (None, 120)               48120     \n",
      "                                                                 \n",
      " dense_1 (Dense)             (None, 84)                10164     \n",
      "                                                                 \n",
      " dense_2 (Dense)             (None, 10)                850       \n",
      "                                                                 \n",
      "=================================================================\n",
      "Total params: 61706 (241.04 KB)\n",
      "Trainable params: 61706 (241.04 KB)\n",
      "Non-trainable params: 0 (0.00 Byte)\n",
      "_________________________________________________________________\n"
     ]
    }
   ],
   "source": [
    "LeNet5.summary()"
   ]
  },
  {
   "cell_type": "markdown",
   "id": "0dad2f87",
   "metadata": {},
   "source": [
    "# Model Training"
   ]
  },
  {
   "cell_type": "code",
   "execution_count": 11,
   "id": "b2f5fc3c",
   "metadata": {
    "ExecuteTime": {
     "end_time": "2024-07-14T13:35:10.846792Z",
     "start_time": "2024-07-14T13:23:29.142820Z"
    },
    "deletable": false,
    "editable": false,
    "run_control": {
     "frozen": true
    },
    "scrolled": true
   },
   "outputs": [
    {
     "name": "stdout",
     "output_type": "stream",
     "text": [
      "Epoch 1/100\n",
      "1441/1441 [==============================] - 8s 6ms/step - loss: 2.1947 - accuracy: 0.1883 - val_loss: 2.0258 - val_accuracy: 0.2501\n",
      "Epoch 2/100\n",
      "1441/1441 [==============================] - 8s 5ms/step - loss: 1.9325 - accuracy: 0.2974 - val_loss: 1.8490 - val_accuracy: 0.3334\n",
      "Epoch 3/100\n",
      "1441/1441 [==============================] - 8s 5ms/step - loss: 1.7478 - accuracy: 0.4066 - val_loss: 1.6756 - val_accuracy: 0.4453\n",
      "Epoch 4/100\n",
      "1441/1441 [==============================] - 8s 5ms/step - loss: 1.6149 - accuracy: 0.4681 - val_loss: 1.5867 - val_accuracy: 0.4665\n",
      "Epoch 5/100\n",
      "1441/1441 [==============================] - 8s 6ms/step - loss: 1.4809 - accuracy: 0.5165 - val_loss: 1.3966 - val_accuracy: 0.5561\n",
      "Epoch 6/100\n",
      "1441/1441 [==============================] - 8s 6ms/step - loss: 1.2819 - accuracy: 0.5908 - val_loss: 1.1723 - val_accuracy: 0.6322\n",
      "Epoch 7/100\n",
      "1441/1441 [==============================] - 8s 6ms/step - loss: 1.0908 - accuracy: 0.6523 - val_loss: 1.0240 - val_accuracy: 0.6751\n",
      "Epoch 8/100\n",
      "1441/1441 [==============================] - 9s 6ms/step - loss: 0.9416 - accuracy: 0.6978 - val_loss: 0.8556 - val_accuracy: 0.7304\n",
      "Epoch 9/100\n",
      "1441/1441 [==============================] - 9s 6ms/step - loss: 0.8215 - accuracy: 0.7361 - val_loss: 0.7805 - val_accuracy: 0.7530\n",
      "Epoch 10/100\n",
      "1441/1441 [==============================] - 8s 6ms/step - loss: 0.7275 - accuracy: 0.7659 - val_loss: 0.6874 - val_accuracy: 0.7804\n",
      "Epoch 11/100\n",
      "1441/1441 [==============================] - 8s 6ms/step - loss: 0.6585 - accuracy: 0.7886 - val_loss: 0.6564 - val_accuracy: 0.7929\n",
      "Epoch 12/100\n",
      "1441/1441 [==============================] - 8s 6ms/step - loss: 0.6030 - accuracy: 0.8053 - val_loss: 0.6070 - val_accuracy: 0.8109\n",
      "Epoch 13/100\n",
      "1441/1441 [==============================] - 8s 5ms/step - loss: 0.5573 - accuracy: 0.8195 - val_loss: 0.6008 - val_accuracy: 0.8058\n",
      "Epoch 14/100\n",
      "1441/1441 [==============================] - 8s 5ms/step - loss: 0.5170 - accuracy: 0.8328 - val_loss: 0.5190 - val_accuracy: 0.8326\n",
      "Epoch 15/100\n",
      "1441/1441 [==============================] - 8s 5ms/step - loss: 0.4828 - accuracy: 0.8426 - val_loss: 0.4971 - val_accuracy: 0.8436\n",
      "Epoch 16/100\n",
      "1441/1441 [==============================] - 8s 5ms/step - loss: 0.4561 - accuracy: 0.8508 - val_loss: 0.4707 - val_accuracy: 0.8519\n",
      "Epoch 17/100\n",
      "1441/1441 [==============================] - 8s 5ms/step - loss: 0.4295 - accuracy: 0.8592 - val_loss: 0.4514 - val_accuracy: 0.8589\n",
      "Epoch 18/100\n",
      "1441/1441 [==============================] - 8s 5ms/step - loss: 0.4082 - accuracy: 0.8667 - val_loss: 0.4583 - val_accuracy: 0.8513\n",
      "Epoch 19/100\n",
      "1441/1441 [==============================] - 8s 5ms/step - loss: 0.3890 - accuracy: 0.8732 - val_loss: 0.4157 - val_accuracy: 0.8677\n",
      "Epoch 20/100\n",
      "1441/1441 [==============================] - 8s 5ms/step - loss: 0.3695 - accuracy: 0.8792 - val_loss: 0.4211 - val_accuracy: 0.8638\n",
      "Epoch 21/100\n",
      "1441/1441 [==============================] - 8s 5ms/step - loss: 0.3525 - accuracy: 0.8851 - val_loss: 0.3985 - val_accuracy: 0.8729\n",
      "Epoch 22/100\n",
      "1441/1441 [==============================] - 8s 5ms/step - loss: 0.3385 - accuracy: 0.8883 - val_loss: 0.3856 - val_accuracy: 0.8793\n",
      "Epoch 23/100\n",
      "1441/1441 [==============================] - 8s 5ms/step - loss: 0.3237 - accuracy: 0.8939 - val_loss: 0.3629 - val_accuracy: 0.8851\n",
      "Epoch 24/100\n",
      "1441/1441 [==============================] - 8s 6ms/step - loss: 0.3096 - accuracy: 0.8985 - val_loss: 0.3546 - val_accuracy: 0.8902\n",
      "Epoch 25/100\n",
      "1441/1441 [==============================] - 8s 6ms/step - loss: 0.2979 - accuracy: 0.9025 - val_loss: 0.3583 - val_accuracy: 0.8871\n",
      "Epoch 26/100\n",
      "1441/1441 [==============================] - 8s 6ms/step - loss: 0.2886 - accuracy: 0.9059 - val_loss: 0.3584 - val_accuracy: 0.8850\n",
      "Epoch 27/100\n",
      "1441/1441 [==============================] - 8s 6ms/step - loss: 0.2798 - accuracy: 0.9069 - val_loss: 0.3576 - val_accuracy: 0.8867\n",
      "Epoch 28/100\n",
      "1441/1441 [==============================] - 8s 6ms/step - loss: 0.2706 - accuracy: 0.9107 - val_loss: 0.3812 - val_accuracy: 0.8787\n",
      "Epoch 29/100\n",
      "1441/1441 [==============================] - 8s 5ms/step - loss: 0.2590 - accuracy: 0.9159 - val_loss: 0.3599 - val_accuracy: 0.8863\n",
      "Epoch 30/100\n",
      "1441/1441 [==============================] - 8s 5ms/step - loss: 0.2493 - accuracy: 0.9186 - val_loss: 0.3267 - val_accuracy: 0.8957\n",
      "Epoch 31/100\n",
      "1441/1441 [==============================] - 8s 5ms/step - loss: 0.2424 - accuracy: 0.9211 - val_loss: 0.3608 - val_accuracy: 0.8840\n",
      "Epoch 32/100\n",
      "1441/1441 [==============================] - 8s 5ms/step - loss: 0.2342 - accuracy: 0.9240 - val_loss: 0.3259 - val_accuracy: 0.8965\n",
      "Epoch 33/100\n",
      "1441/1441 [==============================] - 8s 5ms/step - loss: 0.2276 - accuracy: 0.9261 - val_loss: 0.3468 - val_accuracy: 0.8894\n",
      "Epoch 34/100\n",
      "1441/1441 [==============================] - 8s 5ms/step - loss: 0.2191 - accuracy: 0.9288 - val_loss: 0.3233 - val_accuracy: 0.8991\n",
      "Epoch 35/100\n",
      "1441/1441 [==============================] - 8s 5ms/step - loss: 0.2134 - accuracy: 0.9301 - val_loss: 0.3322 - val_accuracy: 0.8944\n",
      "Epoch 36/100\n",
      "1441/1441 [==============================] - 8s 6ms/step - loss: 0.2076 - accuracy: 0.9317 - val_loss: 0.3278 - val_accuracy: 0.8945\n",
      "Epoch 37/100\n",
      "1441/1441 [==============================] - 8s 6ms/step - loss: 0.2016 - accuracy: 0.9344 - val_loss: 0.3324 - val_accuracy: 0.8897\n",
      "Epoch 38/100\n",
      "1441/1441 [==============================] - 8s 6ms/step - loss: 0.1960 - accuracy: 0.9356 - val_loss: 0.3321 - val_accuracy: 0.8925\n",
      "Epoch 39/100\n",
      "1441/1441 [==============================] - 8s 6ms/step - loss: 0.1900 - accuracy: 0.9384 - val_loss: 0.3574 - val_accuracy: 0.8861\n",
      "Epoch 40/100\n",
      "1441/1441 [==============================] - 8s 6ms/step - loss: 0.1842 - accuracy: 0.9397 - val_loss: 0.2992 - val_accuracy: 0.9073\n",
      "Epoch 41/100\n",
      "1441/1441 [==============================] - 8s 6ms/step - loss: 0.1810 - accuracy: 0.9407 - val_loss: 0.2981 - val_accuracy: 0.9065\n",
      "Epoch 42/100\n",
      "1441/1441 [==============================] - 8s 6ms/step - loss: 0.1735 - accuracy: 0.9436 - val_loss: 0.2901 - val_accuracy: 0.9084\n",
      "Epoch 43/100\n",
      "1441/1441 [==============================] - 8s 6ms/step - loss: 0.1690 - accuracy: 0.9449 - val_loss: 0.2868 - val_accuracy: 0.9129\n",
      "Epoch 44/100\n",
      "1441/1441 [==============================] - 8s 6ms/step - loss: 0.1639 - accuracy: 0.9470 - val_loss: 0.2915 - val_accuracy: 0.9100\n",
      "Epoch 45/100\n",
      "1441/1441 [==============================] - 8s 6ms/step - loss: 0.1623 - accuracy: 0.9480 - val_loss: 0.2895 - val_accuracy: 0.9087\n",
      "Epoch 46/100\n",
      "1441/1441 [==============================] - 8s 6ms/step - loss: 0.1576 - accuracy: 0.9482 - val_loss: 0.2855 - val_accuracy: 0.9111\n",
      "Epoch 47/100\n",
      "1441/1441 [==============================] - 8s 6ms/step - loss: 0.1539 - accuracy: 0.9494 - val_loss: 0.3091 - val_accuracy: 0.9015\n",
      "Epoch 48/100\n",
      "1441/1441 [==============================] - 8s 6ms/step - loss: 0.1484 - accuracy: 0.9514 - val_loss: 0.2978 - val_accuracy: 0.9074\n",
      "Epoch 49/100\n",
      "1441/1441 [==============================] - 8s 6ms/step - loss: 0.1460 - accuracy: 0.9526 - val_loss: 0.2865 - val_accuracy: 0.9111\n",
      "Epoch 50/100\n",
      "1441/1441 [==============================] - 8s 6ms/step - loss: 0.1414 - accuracy: 0.9546 - val_loss: 0.3028 - val_accuracy: 0.9062\n",
      "Epoch 51/100\n",
      "1441/1441 [==============================] - 8s 6ms/step - loss: 0.1379 - accuracy: 0.9562 - val_loss: 0.2825 - val_accuracy: 0.9143\n",
      "Epoch 52/100\n",
      "1441/1441 [==============================] - 8s 6ms/step - loss: 0.1356 - accuracy: 0.9563 - val_loss: 0.2805 - val_accuracy: 0.9169\n",
      "Epoch 53/100\n",
      "1441/1441 [==============================] - 8s 6ms/step - loss: 0.1308 - accuracy: 0.9583 - val_loss: 0.2846 - val_accuracy: 0.9147\n",
      "Epoch 54/100\n",
      "1441/1441 [==============================] - 8s 6ms/step - loss: 0.1268 - accuracy: 0.9586 - val_loss: 0.2854 - val_accuracy: 0.9134\n",
      "Epoch 55/100\n",
      "1441/1441 [==============================] - 8s 6ms/step - loss: 0.1274 - accuracy: 0.9584 - val_loss: 0.2981 - val_accuracy: 0.9094\n",
      "Epoch 56/100\n",
      "1441/1441 [==============================] - 8s 6ms/step - loss: 0.1228 - accuracy: 0.9612 - val_loss: 0.2810 - val_accuracy: 0.9163\n",
      "Epoch 57/100\n",
      "1441/1441 [==============================] - 8s 5ms/step - loss: 0.1181 - accuracy: 0.9618 - val_loss: 0.2698 - val_accuracy: 0.9195\n",
      "Epoch 58/100\n",
      "1441/1441 [==============================] - 8s 6ms/step - loss: 0.1186 - accuracy: 0.9613 - val_loss: 0.2885 - val_accuracy: 0.9110\n",
      "Epoch 59/100\n",
      "1441/1441 [==============================] - 8s 6ms/step - loss: 0.1148 - accuracy: 0.9632 - val_loss: 0.2714 - val_accuracy: 0.9198\n",
      "Epoch 60/100\n",
      "1441/1441 [==============================] - 8s 6ms/step - loss: 0.1109 - accuracy: 0.9647 - val_loss: 0.2815 - val_accuracy: 0.9159\n",
      "Epoch 61/100\n",
      "1441/1441 [==============================] - 8s 6ms/step - loss: 0.1078 - accuracy: 0.9659 - val_loss: 0.2741 - val_accuracy: 0.9167\n",
      "Epoch 62/100\n",
      "1441/1441 [==============================] - 8s 6ms/step - loss: 0.1058 - accuracy: 0.9654 - val_loss: 0.2736 - val_accuracy: 0.9207\n",
      "Epoch 63/100\n",
      "1441/1441 [==============================] - 8s 6ms/step - loss: 0.1036 - accuracy: 0.9671 - val_loss: 0.2768 - val_accuracy: 0.9166\n",
      "Epoch 64/100\n",
      "1441/1441 [==============================] - 8s 6ms/step - loss: 0.1000 - accuracy: 0.9685 - val_loss: 0.2982 - val_accuracy: 0.9116\n",
      "Epoch 65/100\n",
      "1441/1441 [==============================] - 8s 6ms/step - loss: 0.0994 - accuracy: 0.9682 - val_loss: 0.2769 - val_accuracy: 0.9172\n",
      "Epoch 66/100\n",
      "1441/1441 [==============================] - 8s 6ms/step - loss: 0.0970 - accuracy: 0.9685 - val_loss: 0.2842 - val_accuracy: 0.9166\n",
      "Epoch 67/100\n",
      "1441/1441 [==============================] - 8s 6ms/step - loss: 0.0944 - accuracy: 0.9698 - val_loss: 0.2693 - val_accuracy: 0.9200\n",
      "Epoch 68/100\n",
      "1441/1441 [==============================] - 8s 6ms/step - loss: 0.0923 - accuracy: 0.9711 - val_loss: 0.2834 - val_accuracy: 0.9179\n",
      "Epoch 69/100\n",
      "1441/1441 [==============================] - 8s 6ms/step - loss: 0.0899 - accuracy: 0.9716 - val_loss: 0.2876 - val_accuracy: 0.9152\n",
      "Epoch 70/100\n",
      "1441/1441 [==============================] - 8s 6ms/step - loss: 0.0889 - accuracy: 0.9723 - val_loss: 0.2877 - val_accuracy: 0.9168\n",
      "Epoch 71/100\n",
      "1441/1441 [==============================] - 8s 6ms/step - loss: 0.0868 - accuracy: 0.9726 - val_loss: 0.2847 - val_accuracy: 0.9166\n",
      "Epoch 72/100\n",
      "1441/1441 [==============================] - 8s 6ms/step - loss: 0.0845 - accuracy: 0.9726 - val_loss: 0.3076 - val_accuracy: 0.9120\n",
      "Epoch 73/100\n",
      "1441/1441 [==============================] - 8s 6ms/step - loss: 0.0824 - accuracy: 0.9741 - val_loss: 0.2849 - val_accuracy: 0.9155\n",
      "Epoch 74/100\n",
      "1441/1441 [==============================] - 8s 6ms/step - loss: 0.0803 - accuracy: 0.9754 - val_loss: 0.2996 - val_accuracy: 0.9154\n",
      "Epoch 75/100\n",
      "1441/1441 [==============================] - 8s 6ms/step - loss: 0.0787 - accuracy: 0.9752 - val_loss: 0.2865 - val_accuracy: 0.9183\n",
      "Epoch 76/100\n",
      "1441/1441 [==============================] - 8s 6ms/step - loss: 0.0790 - accuracy: 0.9763 - val_loss: 0.2724 - val_accuracy: 0.9232\n",
      "Epoch 77/100\n",
      "1441/1441 [==============================] - 8s 6ms/step - loss: 0.0759 - accuracy: 0.9757 - val_loss: 0.2747 - val_accuracy: 0.9232\n",
      "Epoch 78/100\n",
      "1441/1441 [==============================] - 8s 6ms/step - loss: 0.0733 - accuracy: 0.9777 - val_loss: 0.2843 - val_accuracy: 0.9199\n",
      "Epoch 79/100\n",
      "1441/1441 [==============================] - 8s 6ms/step - loss: 0.0723 - accuracy: 0.9772 - val_loss: 0.2873 - val_accuracy: 0.9192\n",
      "Epoch 80/100\n",
      "1441/1441 [==============================] - 8s 6ms/step - loss: 0.0707 - accuracy: 0.9787 - val_loss: 0.2900 - val_accuracy: 0.9174\n",
      "Epoch 81/100\n",
      "1441/1441 [==============================] - 8s 6ms/step - loss: 0.0700 - accuracy: 0.9785 - val_loss: 0.2784 - val_accuracy: 0.9220\n",
      "Epoch 82/100\n",
      "1441/1441 [==============================] - 8s 6ms/step - loss: 0.0699 - accuracy: 0.9783 - val_loss: 0.2746 - val_accuracy: 0.9226\n",
      "Epoch 83/100\n",
      "1441/1441 [==============================] - 8s 6ms/step - loss: 0.0648 - accuracy: 0.9801 - val_loss: 0.2826 - val_accuracy: 0.9199\n",
      "Epoch 84/100\n",
      "1441/1441 [==============================] - 8s 6ms/step - loss: 0.0635 - accuracy: 0.9811 - val_loss: 0.2709 - val_accuracy: 0.9258\n",
      "Epoch 85/100\n",
      "1441/1441 [==============================] - 8s 6ms/step - loss: 0.0629 - accuracy: 0.9807 - val_loss: 0.2853 - val_accuracy: 0.9221\n",
      "Epoch 86/100\n",
      "1441/1441 [==============================] - 8s 6ms/step - loss: 0.0625 - accuracy: 0.9806 - val_loss: 0.2924 - val_accuracy: 0.9206\n",
      "Epoch 87/100\n",
      "1441/1441 [==============================] - 8s 6ms/step - loss: 0.0607 - accuracy: 0.9814 - val_loss: 0.2982 - val_accuracy: 0.9176\n"
     ]
    }
   ],
   "source": [
    "LeNet5.compile(optimizer=\"sgd\", loss=\"sparse_categorical_crossentropy\", metrics=[\"accuracy\"])\n",
    "\n",
    "callback_earlystop = tf.keras.callbacks.EarlyStopping(monitor='val_loss', patience=20)\n",
    "\n",
    "history = LeNet5.fit(\n",
    "    X_train, y_train, validation_split=0.2, epochs=100, callbacks=[callback_earlystop],\n",
    ")  # and 20% of training data is used as validation set"
   ]
  },
  {
   "cell_type": "code",
   "execution_count": 12,
   "id": "65fbf192",
   "metadata": {
    "ExecuteTime": {
     "end_time": "2024-07-14T13:37:12.540580Z",
     "start_time": "2024-07-14T13:37:11.262513Z"
    },
    "deletable": false,
    "editable": false,
    "run_control": {
     "frozen": true
    }
   },
   "outputs": [
    {
     "name": "stdout",
     "output_type": "stream",
     "text": [
      "451/451 [==============================] - 1s 3ms/step - loss: 0.3144 - accuracy: 0.9178\n"
     ]
    },
    {
     "data": {
      "text/plain": [
       "[0.31442588567733765, 0.917829155921936]"
      ]
     },
     "execution_count": 12,
     "metadata": {},
     "output_type": "execute_result"
    }
   ],
   "source": [
    "LeNet5.evaluate(X_test, y_test)"
   ]
  },
  {
   "cell_type": "markdown",
   "id": "5fc5a9da",
   "metadata": {},
   "source": [
    "# Checking performance on mnist dataset"
   ]
  },
  {
   "cell_type": "markdown",
   "id": "1e1fb710",
   "metadata": {},
   "source": [
    "lets check with a standard dataset namely mnist dataset and compare the results"
   ]
  },
  {
   "cell_type": "code",
   "execution_count": 4,
   "id": "8b36ddd4",
   "metadata": {
    "ExecuteTime": {
     "end_time": "2024-07-15T11:34:39.441814Z",
     "start_time": "2024-07-15T11:34:39.376978Z"
    }
   },
   "outputs": [],
   "source": [
    "# initializing the model\n",
    "LeNet5 = tf.keras.models.Sequential()\n",
    "# definign the input shape\n",
    "LeNet5.add(tf.keras.layers.Input(shape=(28, 28, 1)))\n",
    "# C1 layer: 6 filters of 5x5 size with valid padding\n",
    "LeNet5.add(\n",
    "    tf.keras.layers.Conv2D(\n",
    "        filters=6,\n",
    "        kernel_size=(5, 5),\n",
    "        strides=(1, 1),\n",
    "        padding=\"valid\",\n",
    "        activation=\"tanh\",\n",
    "    )\n",
    ")\n",
    "# S2 layer: average pooling with strides 2 and pool_size of 2x2 and no padding\n",
    "LeNet5.add(\n",
    "    tf.keras.layers.AveragePooling2D(\n",
    "        pool_size=(2, 2),\n",
    "        strides=(2, 2),\n",
    "        padding=\"valid\",\n",
    "    )\n",
    ")\n",
    "# C3 layer: 16 filters of 5x5 size with valid padding\n",
    "LeNet5.add(\n",
    "    tf.keras.layers.Conv2D(\n",
    "        filters=16,\n",
    "        kernel_size=(5, 5),\n",
    "        strides=(1, 1),\n",
    "        padding=\"valid\",\n",
    "        activation=\"tanh\",\n",
    "    )\n",
    ")\n",
    "# S4 layer: average pooling with strides 2 and pool_size of 2x2 and no padding\n",
    "LeNet5.add(\n",
    "    tf.keras.layers.AveragePooling2D(\n",
    "        pool_size=(2, 2),\n",
    "        strides=(2, 2),\n",
    "        padding=\"valid\",\n",
    "    )\n",
    ")\n",
    "# C5 layer: a fully connected layer with 120 units\n",
    "# to connect S4 to C5 we first need to flatten the output of the S4 layer\n",
    "LeNet5.add(tf.keras.layers.Flatten())\n",
    "LeNet5.add(tf.keras.layers.Dense(units=120, activation='tanh'))\n",
    "# F6 layer: a fully connected layer with 84 units\n",
    "LeNet5.add(tf.keras.layers.Dense(units=84, activation='tanh'))\n",
    "# OUTPUT layer: layeer with 10 units used to classify the 10 digits\n",
    "LeNet5.add(tf.keras.layers.Dense(units=10, activation='softmax'))"
   ]
  },
  {
   "cell_type": "code",
   "execution_count": 5,
   "id": "eb07d45e",
   "metadata": {
    "ExecuteTime": {
     "end_time": "2024-07-15T11:45:44.318969Z",
     "start_time": "2024-07-15T11:34:40.007274Z"
    }
   },
   "outputs": [
    {
     "name": "stdout",
     "output_type": "stream",
     "text": [
      "Epoch 1/100\n",
      "1500/1500 [==============================] - 8s 5ms/step - loss: 0.4720 - accuracy: 0.8875 - val_loss: 0.1870 - val_accuracy: 0.9512\n",
      "Epoch 2/100\n",
      "1500/1500 [==============================] - 7s 5ms/step - loss: 0.1593 - accuracy: 0.9565 - val_loss: 0.1200 - val_accuracy: 0.9682\n",
      "Epoch 3/100\n",
      "1500/1500 [==============================] - 7s 5ms/step - loss: 0.1146 - accuracy: 0.9683 - val_loss: 0.0990 - val_accuracy: 0.9719\n",
      "Epoch 4/100\n",
      "1500/1500 [==============================] - 7s 5ms/step - loss: 0.0944 - accuracy: 0.9735 - val_loss: 0.0829 - val_accuracy: 0.9775\n",
      "Epoch 5/100\n",
      "1500/1500 [==============================] - 8s 5ms/step - loss: 0.0821 - accuracy: 0.9766 - val_loss: 0.0802 - val_accuracy: 0.9753\n",
      "Epoch 6/100\n",
      "1500/1500 [==============================] - 7s 5ms/step - loss: 0.0735 - accuracy: 0.9787 - val_loss: 0.0728 - val_accuracy: 0.9795\n",
      "Epoch 7/100\n",
      "1500/1500 [==============================] - 8s 5ms/step - loss: 0.0673 - accuracy: 0.9805 - val_loss: 0.0653 - val_accuracy: 0.9809\n",
      "Epoch 8/100\n",
      "1500/1500 [==============================] - 8s 5ms/step - loss: 0.0621 - accuracy: 0.9818 - val_loss: 0.0633 - val_accuracy: 0.9822\n",
      "Epoch 9/100\n",
      "1500/1500 [==============================] - 7s 5ms/step - loss: 0.0576 - accuracy: 0.9832 - val_loss: 0.0596 - val_accuracy: 0.9823\n",
      "Epoch 10/100\n",
      "1500/1500 [==============================] - 7s 5ms/step - loss: 0.0549 - accuracy: 0.9837 - val_loss: 0.0582 - val_accuracy: 0.9831\n",
      "Epoch 11/100\n",
      "1500/1500 [==============================] - 7s 5ms/step - loss: 0.0527 - accuracy: 0.9848 - val_loss: 0.0573 - val_accuracy: 0.9827\n",
      "Epoch 12/100\n",
      "1500/1500 [==============================] - 7s 5ms/step - loss: 0.0489 - accuracy: 0.9855 - val_loss: 0.0522 - val_accuracy: 0.9836\n",
      "Epoch 13/100\n",
      "1500/1500 [==============================] - 7s 5ms/step - loss: 0.0464 - accuracy: 0.9864 - val_loss: 0.0518 - val_accuracy: 0.9844\n",
      "Epoch 14/100\n",
      "1500/1500 [==============================] - 7s 5ms/step - loss: 0.0447 - accuracy: 0.9864 - val_loss: 0.0503 - val_accuracy: 0.9848\n",
      "Epoch 15/100\n",
      "1500/1500 [==============================] - 7s 5ms/step - loss: 0.0424 - accuracy: 0.9874 - val_loss: 0.0506 - val_accuracy: 0.9855\n",
      "Epoch 16/100\n",
      "1500/1500 [==============================] - 7s 5ms/step - loss: 0.0405 - accuracy: 0.9878 - val_loss: 0.0463 - val_accuracy: 0.9862\n",
      "Epoch 17/100\n",
      "1500/1500 [==============================] - 7s 5ms/step - loss: 0.0383 - accuracy: 0.9887 - val_loss: 0.0482 - val_accuracy: 0.9852\n",
      "Epoch 18/100\n",
      "1500/1500 [==============================] - 7s 5ms/step - loss: 0.0372 - accuracy: 0.9892 - val_loss: 0.0459 - val_accuracy: 0.9857\n",
      "Epoch 19/100\n",
      "1500/1500 [==============================] - 7s 5ms/step - loss: 0.0357 - accuracy: 0.9891 - val_loss: 0.0443 - val_accuracy: 0.9868\n",
      "Epoch 20/100\n",
      "1500/1500 [==============================] - 7s 5ms/step - loss: 0.0343 - accuracy: 0.9899 - val_loss: 0.0421 - val_accuracy: 0.9866\n",
      "Epoch 21/100\n",
      "1500/1500 [==============================] - 7s 5ms/step - loss: 0.0330 - accuracy: 0.9899 - val_loss: 0.0413 - val_accuracy: 0.9877\n",
      "Epoch 22/100\n",
      "1500/1500 [==============================] - 7s 5ms/step - loss: 0.0324 - accuracy: 0.9905 - val_loss: 0.0432 - val_accuracy: 0.9863\n",
      "Epoch 23/100\n",
      "1500/1500 [==============================] - 7s 5ms/step - loss: 0.0306 - accuracy: 0.9909 - val_loss: 0.0411 - val_accuracy: 0.9877\n",
      "Epoch 24/100\n",
      "1500/1500 [==============================] - 7s 5ms/step - loss: 0.0296 - accuracy: 0.9912 - val_loss: 0.0394 - val_accuracy: 0.9875\n",
      "Epoch 25/100\n",
      "1500/1500 [==============================] - 7s 5ms/step - loss: 0.0297 - accuracy: 0.9915 - val_loss: 0.0389 - val_accuracy: 0.9887\n",
      "Epoch 26/100\n",
      "1500/1500 [==============================] - 7s 5ms/step - loss: 0.0281 - accuracy: 0.9916 - val_loss: 0.0396 - val_accuracy: 0.9872\n",
      "Epoch 27/100\n",
      "1500/1500 [==============================] - 7s 5ms/step - loss: 0.0268 - accuracy: 0.9923 - val_loss: 0.0366 - val_accuracy: 0.9880\n",
      "Epoch 28/100\n",
      "1500/1500 [==============================] - 7s 5ms/step - loss: 0.0258 - accuracy: 0.9928 - val_loss: 0.0380 - val_accuracy: 0.9882\n",
      "Epoch 29/100\n",
      "1500/1500 [==============================] - 7s 5ms/step - loss: 0.0258 - accuracy: 0.9925 - val_loss: 0.0388 - val_accuracy: 0.9883\n",
      "Epoch 30/100\n",
      "1500/1500 [==============================] - 7s 5ms/step - loss: 0.0250 - accuracy: 0.9927 - val_loss: 0.0397 - val_accuracy: 0.9875\n",
      "Epoch 31/100\n",
      "1500/1500 [==============================] - 7s 5ms/step - loss: 0.0239 - accuracy: 0.9930 - val_loss: 0.0367 - val_accuracy: 0.9879\n",
      "Epoch 32/100\n",
      "1500/1500 [==============================] - 7s 5ms/step - loss: 0.0229 - accuracy: 0.9935 - val_loss: 0.0369 - val_accuracy: 0.9874\n",
      "Epoch 33/100\n",
      "1500/1500 [==============================] - 7s 5ms/step - loss: 0.0229 - accuracy: 0.9933 - val_loss: 0.0389 - val_accuracy: 0.9885\n",
      "Epoch 34/100\n",
      "1500/1500 [==============================] - 7s 5ms/step - loss: 0.0219 - accuracy: 0.9934 - val_loss: 0.0381 - val_accuracy: 0.9877\n",
      "Epoch 35/100\n",
      "1500/1500 [==============================] - 7s 5ms/step - loss: 0.0220 - accuracy: 0.9935 - val_loss: 0.0353 - val_accuracy: 0.9886\n",
      "Epoch 36/100\n",
      "1500/1500 [==============================] - 7s 5ms/step - loss: 0.0205 - accuracy: 0.9944 - val_loss: 0.0357 - val_accuracy: 0.9883\n",
      "Epoch 37/100\n",
      "1500/1500 [==============================] - 7s 5ms/step - loss: 0.0199 - accuracy: 0.9945 - val_loss: 0.0347 - val_accuracy: 0.9887\n",
      "Epoch 38/100\n",
      "1500/1500 [==============================] - 7s 5ms/step - loss: 0.0194 - accuracy: 0.9945 - val_loss: 0.0363 - val_accuracy: 0.9887\n",
      "Epoch 39/100\n",
      "1500/1500 [==============================] - 7s 5ms/step - loss: 0.0187 - accuracy: 0.9951 - val_loss: 0.0372 - val_accuracy: 0.9883\n",
      "Epoch 40/100\n",
      "1500/1500 [==============================] - 7s 5ms/step - loss: 0.0184 - accuracy: 0.9950 - val_loss: 0.0356 - val_accuracy: 0.9890\n",
      "Epoch 41/100\n",
      "1500/1500 [==============================] - 7s 5ms/step - loss: 0.0180 - accuracy: 0.9950 - val_loss: 0.0351 - val_accuracy: 0.9894\n",
      "Epoch 42/100\n",
      "1500/1500 [==============================] - 7s 5ms/step - loss: 0.0175 - accuracy: 0.9949 - val_loss: 0.0348 - val_accuracy: 0.9892\n",
      "Epoch 43/100\n",
      "1500/1500 [==============================] - 7s 5ms/step - loss: 0.0169 - accuracy: 0.9952 - val_loss: 0.0346 - val_accuracy: 0.9897\n",
      "Epoch 44/100\n",
      "1500/1500 [==============================] - 7s 5ms/step - loss: 0.0169 - accuracy: 0.9956 - val_loss: 0.0338 - val_accuracy: 0.9891\n",
      "Epoch 45/100\n",
      "1500/1500 [==============================] - 8s 5ms/step - loss: 0.0157 - accuracy: 0.9959 - val_loss: 0.0341 - val_accuracy: 0.9889\n",
      "Epoch 46/100\n",
      "1500/1500 [==============================] - 7s 5ms/step - loss: 0.0160 - accuracy: 0.9957 - val_loss: 0.0356 - val_accuracy: 0.9886\n",
      "Epoch 47/100\n",
      "1500/1500 [==============================] - 7s 5ms/step - loss: 0.0160 - accuracy: 0.9956 - val_loss: 0.0349 - val_accuracy: 0.9893\n",
      "Epoch 48/100\n",
      "1500/1500 [==============================] - 7s 5ms/step - loss: 0.0154 - accuracy: 0.9958 - val_loss: 0.0349 - val_accuracy: 0.9901\n",
      "Epoch 49/100\n",
      "1500/1500 [==============================] - 9s 6ms/step - loss: 0.0144 - accuracy: 0.9964 - val_loss: 0.0343 - val_accuracy: 0.9896\n",
      "Epoch 50/100\n",
      "1500/1500 [==============================] - 8s 5ms/step - loss: 0.0142 - accuracy: 0.9962 - val_loss: 0.0348 - val_accuracy: 0.9896\n",
      "Epoch 51/100\n",
      "1500/1500 [==============================] - 7s 5ms/step - loss: 0.0143 - accuracy: 0.9959 - val_loss: 0.0346 - val_accuracy: 0.9895\n",
      "Epoch 52/100\n",
      "1500/1500 [==============================] - 7s 5ms/step - loss: 0.0136 - accuracy: 0.9964 - val_loss: 0.0331 - val_accuracy: 0.9891\n",
      "Epoch 53/100\n",
      "1500/1500 [==============================] - 7s 5ms/step - loss: 0.0132 - accuracy: 0.9967 - val_loss: 0.0338 - val_accuracy: 0.9896\n",
      "Epoch 54/100\n",
      "1500/1500 [==============================] - 7s 5ms/step - loss: 0.0125 - accuracy: 0.9969 - val_loss: 0.0343 - val_accuracy: 0.9889\n",
      "Epoch 55/100\n",
      "1500/1500 [==============================] - 7s 5ms/step - loss: 0.0122 - accuracy: 0.9968 - val_loss: 0.0342 - val_accuracy: 0.9898\n",
      "Epoch 56/100\n",
      "1500/1500 [==============================] - 7s 5ms/step - loss: 0.0122 - accuracy: 0.9970 - val_loss: 0.0330 - val_accuracy: 0.9891\n",
      "Epoch 57/100\n",
      "1500/1500 [==============================] - 7s 5ms/step - loss: 0.0123 - accuracy: 0.9967 - val_loss: 0.0338 - val_accuracy: 0.9894\n",
      "Epoch 58/100\n",
      "1500/1500 [==============================] - 7s 5ms/step - loss: 0.0119 - accuracy: 0.9970 - val_loss: 0.0335 - val_accuracy: 0.9900\n",
      "Epoch 59/100\n",
      "1500/1500 [==============================] - 7s 5ms/step - loss: 0.0114 - accuracy: 0.9972 - val_loss: 0.0343 - val_accuracy: 0.9884\n",
      "Epoch 60/100\n",
      "1500/1500 [==============================] - 7s 5ms/step - loss: 0.0110 - accuracy: 0.9974 - val_loss: 0.0341 - val_accuracy: 0.9895\n",
      "Epoch 61/100\n",
      "1500/1500 [==============================] - 7s 5ms/step - loss: 0.0111 - accuracy: 0.9973 - val_loss: 0.0337 - val_accuracy: 0.9897\n",
      "Epoch 62/100\n",
      "1500/1500 [==============================] - 7s 5ms/step - loss: 0.0114 - accuracy: 0.9972 - val_loss: 0.0331 - val_accuracy: 0.9896\n",
      "Epoch 63/100\n",
      "1500/1500 [==============================] - 7s 5ms/step - loss: 0.0106 - accuracy: 0.9974 - val_loss: 0.0343 - val_accuracy: 0.9896\n",
      "Epoch 64/100\n",
      "1500/1500 [==============================] - 7s 5ms/step - loss: 0.0103 - accuracy: 0.9976 - val_loss: 0.0346 - val_accuracy: 0.9896\n",
      "Epoch 65/100\n",
      "1500/1500 [==============================] - 7s 5ms/step - loss: 0.0098 - accuracy: 0.9977 - val_loss: 0.0330 - val_accuracy: 0.9897\n",
      "Epoch 66/100\n",
      "1500/1500 [==============================] - 8s 5ms/step - loss: 0.0099 - accuracy: 0.9978 - val_loss: 0.0334 - val_accuracy: 0.9902\n",
      "Epoch 67/100\n",
      "1500/1500 [==============================] - 7s 5ms/step - loss: 0.0097 - accuracy: 0.9979 - val_loss: 0.0327 - val_accuracy: 0.9901\n",
      "Epoch 68/100\n",
      "1500/1500 [==============================] - 7s 5ms/step - loss: 0.0092 - accuracy: 0.9978 - val_loss: 0.0333 - val_accuracy: 0.9902\n",
      "Epoch 69/100\n",
      "1500/1500 [==============================] - 7s 5ms/step - loss: 0.0090 - accuracy: 0.9980 - val_loss: 0.0339 - val_accuracy: 0.9893\n",
      "Epoch 70/100\n",
      "1500/1500 [==============================] - 7s 5ms/step - loss: 0.0087 - accuracy: 0.9981 - val_loss: 0.0329 - val_accuracy: 0.9898\n",
      "Epoch 71/100\n",
      "1500/1500 [==============================] - 7s 5ms/step - loss: 0.0082 - accuracy: 0.9983 - val_loss: 0.0325 - val_accuracy: 0.9898\n",
      "Epoch 72/100\n",
      "1500/1500 [==============================] - 7s 5ms/step - loss: 0.0090 - accuracy: 0.9979 - val_loss: 0.0333 - val_accuracy: 0.9901\n",
      "Epoch 73/100\n",
      "1500/1500 [==============================] - 7s 5ms/step - loss: 0.0088 - accuracy: 0.9980 - val_loss: 0.0341 - val_accuracy: 0.9897\n",
      "Epoch 74/100\n",
      "1500/1500 [==============================] - 7s 5ms/step - loss: 0.0083 - accuracy: 0.9983 - val_loss: 0.0356 - val_accuracy: 0.9887\n",
      "Epoch 75/100\n",
      "1500/1500 [==============================] - 7s 5ms/step - loss: 0.0078 - accuracy: 0.9983 - val_loss: 0.0335 - val_accuracy: 0.9902\n",
      "Epoch 76/100\n",
      "1500/1500 [==============================] - 7s 5ms/step - loss: 0.0076 - accuracy: 0.9987 - val_loss: 0.0339 - val_accuracy: 0.9899\n",
      "Epoch 77/100\n",
      "1500/1500 [==============================] - 7s 5ms/step - loss: 0.0075 - accuracy: 0.9986 - val_loss: 0.0336 - val_accuracy: 0.9900\n",
      "Epoch 78/100\n",
      "1500/1500 [==============================] - 7s 5ms/step - loss: 0.0070 - accuracy: 0.9989 - val_loss: 0.0332 - val_accuracy: 0.9895\n",
      "Epoch 79/100\n",
      "1500/1500 [==============================] - 7s 5ms/step - loss: 0.0071 - accuracy: 0.9987 - val_loss: 0.0343 - val_accuracy: 0.9899\n",
      "Epoch 80/100\n",
      "1500/1500 [==============================] - 7s 5ms/step - loss: 0.0066 - accuracy: 0.9988 - val_loss: 0.0334 - val_accuracy: 0.9901\n",
      "Epoch 81/100\n",
      "1500/1500 [==============================] - 7s 5ms/step - loss: 0.0066 - accuracy: 0.9988 - val_loss: 0.0331 - val_accuracy: 0.9897\n",
      "Epoch 82/100\n",
      "1500/1500 [==============================] - 7s 5ms/step - loss: 0.0066 - accuracy: 0.9989 - val_loss: 0.0336 - val_accuracy: 0.9899\n",
      "Epoch 83/100\n",
      "1500/1500 [==============================] - 8s 5ms/step - loss: 0.0063 - accuracy: 0.9990 - val_loss: 0.0347 - val_accuracy: 0.9901\n",
      "Epoch 84/100\n",
      "1500/1500 [==============================] - 7s 5ms/step - loss: 0.0061 - accuracy: 0.9991 - val_loss: 0.0335 - val_accuracy: 0.9906\n",
      "Epoch 85/100\n",
      "1500/1500 [==============================] - 7s 5ms/step - loss: 0.0061 - accuracy: 0.9990 - val_loss: 0.0343 - val_accuracy: 0.9898\n",
      "Epoch 86/100\n",
      "1500/1500 [==============================] - 7s 5ms/step - loss: 0.0057 - accuracy: 0.9992 - val_loss: 0.0338 - val_accuracy: 0.9897\n",
      "Epoch 87/100\n",
      "1500/1500 [==============================] - 7s 5ms/step - loss: 0.0059 - accuracy: 0.9990 - val_loss: 0.0336 - val_accuracy: 0.9898\n",
      "Epoch 88/100\n",
      "1500/1500 [==============================] - 7s 5ms/step - loss: 0.0056 - accuracy: 0.9992 - val_loss: 0.0340 - val_accuracy: 0.9906\n",
      "Epoch 89/100\n",
      "1500/1500 [==============================] - 7s 5ms/step - loss: 0.0053 - accuracy: 0.9994 - val_loss: 0.0359 - val_accuracy: 0.9898\n",
      "Epoch 90/100\n",
      "1500/1500 [==============================] - 7s 5ms/step - loss: 0.0053 - accuracy: 0.9992 - val_loss: 0.0349 - val_accuracy: 0.9893\n",
      "Epoch 91/100\n",
      "1500/1500 [==============================] - 7s 5ms/step - loss: 0.0052 - accuracy: 0.9993 - val_loss: 0.0346 - val_accuracy: 0.9896\n"
     ]
    }
   ],
   "source": [
    "mnist = tf.keras.datasets.mnist\n",
    "(X_train, y_train), (X_test, y_test) = mnist.load_data()\n",
    "LeNet5.compile(optimizer=\"sgd\", loss=\"sparse_categorical_crossentropy\", metrics=[\"accuracy\"])\n",
    "\n",
    "callback_earlystop = tf.keras.callbacks.EarlyStopping(monitor='val_loss', patience=20)\n",
    "\n",
    "history2 = LeNet5.fit(\n",
    "    X_train, y_train, validation_split=0.2, epochs=100, callbacks=[callback_earlystop],\n",
    ")  # and 20% of training data is used as validation set"
   ]
  },
  {
   "cell_type": "code",
   "execution_count": 6,
   "id": "c94d109d",
   "metadata": {
    "ExecuteTime": {
     "end_time": "2024-07-15T13:30:56.581978Z",
     "start_time": "2024-07-15T13:30:55.788906Z"
    }
   },
   "outputs": [
    {
     "name": "stdout",
     "output_type": "stream",
     "text": [
      "313/313 [==============================] - 1s 2ms/step - loss: 0.0333 - accuracy: 0.9904\n"
     ]
    },
    {
     "data": {
      "text/plain": [
       "[0.03327663987874985, 0.9904000163078308]"
      ]
     },
     "execution_count": 6,
     "metadata": {},
     "output_type": "execute_result"
    }
   ],
   "source": [
    "LeNet5.evaluate(X_test, y_test)"
   ]
  },
  {
   "cell_type": "code",
   "execution_count": null,
   "id": "e2f9a787",
   "metadata": {},
   "outputs": [],
   "source": []
  }
 ],
 "metadata": {
  "kernelspec": {
   "display_name": "dlai_specialization",
   "language": "python",
   "name": "dlai"
  },
  "language_info": {
   "codemirror_mode": {
    "name": "ipython",
    "version": 3
   },
   "file_extension": ".py",
   "mimetype": "text/x-python",
   "name": "python",
   "nbconvert_exporter": "python",
   "pygments_lexer": "ipython3",
   "version": "3.8.18"
  },
  "toc": {
   "base_numbering": 1,
   "nav_menu": {},
   "number_sections": true,
   "sideBar": true,
   "skip_h1_title": false,
   "title_cell": "Table of Contents",
   "title_sidebar": "Contents",
   "toc_cell": false,
   "toc_position": {},
   "toc_section_display": true,
   "toc_window_display": false
  },
  "varInspector": {
   "cols": {
    "lenName": 16,
    "lenType": 16,
    "lenVar": 40
   },
   "kernels_config": {
    "python": {
     "delete_cmd_postfix": "",
     "delete_cmd_prefix": "del ",
     "library": "var_list.py",
     "varRefreshCmd": "print(var_dic_list())"
    },
    "r": {
     "delete_cmd_postfix": ") ",
     "delete_cmd_prefix": "rm(",
     "library": "var_list.r",
     "varRefreshCmd": "cat(var_dic_list()) "
    }
   },
   "types_to_exclude": [
    "module",
    "function",
    "builtin_function_or_method",
    "instance",
    "_Feature"
   ],
   "window_display": false
  }
 },
 "nbformat": 4,
 "nbformat_minor": 5
}
