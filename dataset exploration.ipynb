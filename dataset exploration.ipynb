{
 "cells": [
  {
   "cell_type": "markdown",
   "id": "19e34533",
   "metadata": {},
   "source": [
    "**To do**\n",
    ">1. load all the images as a single array\n",
    "2. combine the csv files into a pandas dataframe\n",
    "3. create a dataset with image and label combo (using filename to search the dataframe) \n",
    "4. if possible export the dataset to later use in other notebooks"
   ]
  },
  {
   "cell_type": "markdown",
   "id": "98767a89",
   "metadata": {},
   "source": [
    "We will be using a Bengali handwritten dataset named [NumtaDB: Bengali Handwritten Digits](https://www.kaggle.com/datasets/BengaliAI/numta)"
   ]
  },
  {
   "cell_type": "markdown",
   "id": "11e9287f",
   "metadata": {},
   "source": [
    "**Note:** As there are no labels for the testing images we will only load the training images and labels from the dataset and later split them into train, test for further analysis"
   ]
  },
  {
   "cell_type": "code",
   "execution_count": 24,
   "id": "4a7ba004",
   "metadata": {
    "ExecuteTime": {
     "end_time": "2024-07-14T05:06:20.537097Z",
     "start_time": "2024-07-14T05:06:20.532002Z"
    }
   },
   "outputs": [],
   "source": [
    "import glob\n",
    "import os\n",
    "import cv2\n",
    "import numpy as np\n",
    "import pandas as pd\n",
    "from itertools import chain"
   ]
  },
  {
   "cell_type": "code",
   "execution_count": 2,
   "id": "00cbb4f7",
   "metadata": {
    "ExecuteTime": {
     "end_time": "2024-07-14T04:33:37.561602Z",
     "start_time": "2024-07-14T04:33:37.548419Z"
    }
   },
   "outputs": [
    {
     "data": {
      "text/plain": [
       "['.ipynb_checkpoints',\n",
       " 'Bangla Handwritten Digit Recognition Using Deep CNN for Large and Unbiased Dataset.pdf',\n",
       " 'dataset exploration.ipynb',\n",
       " 'NumtaDB - Assembled Bengali Handwritten Digits.pdf',\n",
       " 'NumtaDB_Bengali Handwritten Digits']"
      ]
     },
     "execution_count": 2,
     "metadata": {},
     "output_type": "execute_result"
    }
   ],
   "source": [
    "os.listdir()"
   ]
  },
  {
   "cell_type": "code",
   "execution_count": 3,
   "id": "994b6e07",
   "metadata": {
    "ExecuteTime": {
     "end_time": "2024-07-14T04:33:37.747440Z",
     "start_time": "2024-07-14T04:33:37.736626Z"
    }
   },
   "outputs": [],
   "source": [
    "dataset_directory_files = glob.glob(\"NumtaDB_Bengali Handwritten Digits/*\")"
   ]
  },
  {
   "cell_type": "code",
   "execution_count": 4,
   "id": "5eeab54f",
   "metadata": {
    "ExecuteTime": {
     "end_time": "2024-07-14T04:33:38.403602Z",
     "start_time": "2024-07-14T04:33:38.386472Z"
    }
   },
   "outputs": [
    {
     "data": {
      "text/plain": [
       "['NumtaDB_Bengali Handwritten Digits\\\\testing-a',\n",
       " 'NumtaDB_Bengali Handwritten Digits\\\\testing-all-corrected',\n",
       " 'NumtaDB_Bengali Handwritten Digits\\\\testing-auga',\n",
       " 'NumtaDB_Bengali Handwritten Digits\\\\testing-augc',\n",
       " 'NumtaDB_Bengali Handwritten Digits\\\\testing-b',\n",
       " 'NumtaDB_Bengali Handwritten Digits\\\\testing-c',\n",
       " 'NumtaDB_Bengali Handwritten Digits\\\\testing-d',\n",
       " 'NumtaDB_Bengali Handwritten Digits\\\\testing-e',\n",
       " 'NumtaDB_Bengali Handwritten Digits\\\\testing-f',\n",
       " 'NumtaDB_Bengali Handwritten Digits\\\\training-a',\n",
       " 'NumtaDB_Bengali Handwritten Digits\\\\training-a.csv',\n",
       " 'NumtaDB_Bengali Handwritten Digits\\\\training-b',\n",
       " 'NumtaDB_Bengali Handwritten Digits\\\\training-b.csv',\n",
       " 'NumtaDB_Bengali Handwritten Digits\\\\training-c',\n",
       " 'NumtaDB_Bengali Handwritten Digits\\\\training-c.csv',\n",
       " 'NumtaDB_Bengali Handwritten Digits\\\\training-d',\n",
       " 'NumtaDB_Bengali Handwritten Digits\\\\training-d.csv',\n",
       " 'NumtaDB_Bengali Handwritten Digits\\\\training-e',\n",
       " 'NumtaDB_Bengali Handwritten Digits\\\\training-e.csv']"
      ]
     },
     "execution_count": 4,
     "metadata": {},
     "output_type": "execute_result"
    }
   ],
   "source": [
    "dataset_directory_files"
   ]
  },
  {
   "cell_type": "code",
   "execution_count": 25,
   "id": "655be7d7",
   "metadata": {
    "ExecuteTime": {
     "end_time": "2024-07-14T05:07:39.176228Z",
     "start_time": "2024-07-14T05:07:38.904308Z"
    }
   },
   "outputs": [],
   "source": [
    "dataset_training_image_paths = [\n",
    "    glob.glob(f\"{_}/**/*.png\", recursive=True)\n",
    "    for _ in dataset_directory_files\n",
    "    if os.path.isdir(_) and _.split(\"\\\\\")[-1].split(\"-\")[0] == \"training\"\n",
    "]\n",
    "dataset_training_image_paths = list(\n",
    "    chain.from_iterable(dataset_training_image_paths)\n",
    ")  # as the original list would be [[training-a files], [training-b files]........]\n",
    "dataset_training_labels_paths = [\n",
    "    _ for _ in dataset_directory_files if not os.path.isdir(_)\n",
    "]"
   ]
  },
  {
   "cell_type": "code",
   "execution_count": 26,
   "id": "61195949",
   "metadata": {
    "ExecuteTime": {
     "end_time": "2024-07-14T05:07:40.597458Z",
     "start_time": "2024-07-14T05:07:40.490610Z"
    }
   },
   "outputs": [],
   "source": [
    "# combining all the labels files\n",
    "\n",
    "labels_df = pd.concat(map(pd.read_csv, dataset_training_labels_paths), ignore_index=True)"
   ]
  },
  {
   "cell_type": "code",
   "execution_count": 27,
   "id": "9250fdc7",
   "metadata": {
    "ExecuteTime": {
     "end_time": "2024-07-14T05:07:41.455335Z",
     "start_time": "2024-07-14T05:07:41.434623Z"
    }
   },
   "outputs": [
    {
     "data": {
      "text/html": [
       "<div>\n",
       "<style scoped>\n",
       "    .dataframe tbody tr th:only-of-type {\n",
       "        vertical-align: middle;\n",
       "    }\n",
       "\n",
       "    .dataframe tbody tr th {\n",
       "        vertical-align: top;\n",
       "    }\n",
       "\n",
       "    .dataframe thead th {\n",
       "        text-align: right;\n",
       "    }\n",
       "</style>\n",
       "<table border=\"1\" class=\"dataframe\">\n",
       "  <thead>\n",
       "    <tr style=\"text-align: right;\">\n",
       "      <th></th>\n",
       "      <th>filename</th>\n",
       "      <th>original filename</th>\n",
       "      <th>scanid</th>\n",
       "      <th>digit</th>\n",
       "      <th>database name original</th>\n",
       "      <th>contributing team</th>\n",
       "      <th>database name</th>\n",
       "      <th>num</th>\n",
       "      <th>districtid</th>\n",
       "      <th>institutionid</th>\n",
       "      <th>gender</th>\n",
       "      <th>age</th>\n",
       "      <th>datestamp</th>\n",
       "    </tr>\n",
       "  </thead>\n",
       "  <tbody>\n",
       "    <tr>\n",
       "      <th>0</th>\n",
       "      <td>a00000.png</td>\n",
       "      <td>Scan_58_digit_5_num_8.png</td>\n",
       "      <td>58</td>\n",
       "      <td>5</td>\n",
       "      <td>BHDDB</td>\n",
       "      <td>Buet_Broncos</td>\n",
       "      <td>training-a</td>\n",
       "      <td>NaN</td>\n",
       "      <td>NaN</td>\n",
       "      <td>NaN</td>\n",
       "      <td>NaN</td>\n",
       "      <td>NaN</td>\n",
       "      <td>NaN</td>\n",
       "    </tr>\n",
       "    <tr>\n",
       "      <th>1</th>\n",
       "      <td>a00001.png</td>\n",
       "      <td>Scan_73_digit_3_num_5.png</td>\n",
       "      <td>73</td>\n",
       "      <td>3</td>\n",
       "      <td>BHDDB</td>\n",
       "      <td>Buet_Broncos</td>\n",
       "      <td>training-a</td>\n",
       "      <td>NaN</td>\n",
       "      <td>NaN</td>\n",
       "      <td>NaN</td>\n",
       "      <td>NaN</td>\n",
       "      <td>NaN</td>\n",
       "      <td>NaN</td>\n",
       "    </tr>\n",
       "    <tr>\n",
       "      <th>2</th>\n",
       "      <td>a00002.png</td>\n",
       "      <td>Scan_18_digit_1_num_3.png</td>\n",
       "      <td>18</td>\n",
       "      <td>1</td>\n",
       "      <td>BHDDB</td>\n",
       "      <td>Buet_Broncos</td>\n",
       "      <td>training-a</td>\n",
       "      <td>NaN</td>\n",
       "      <td>NaN</td>\n",
       "      <td>NaN</td>\n",
       "      <td>NaN</td>\n",
       "      <td>NaN</td>\n",
       "      <td>NaN</td>\n",
       "    </tr>\n",
       "    <tr>\n",
       "      <th>3</th>\n",
       "      <td>a00003.png</td>\n",
       "      <td>Scan_166_digit_7_num_3.png</td>\n",
       "      <td>166</td>\n",
       "      <td>7</td>\n",
       "      <td>BHDDB</td>\n",
       "      <td>Buet_Broncos</td>\n",
       "      <td>training-a</td>\n",
       "      <td>NaN</td>\n",
       "      <td>NaN</td>\n",
       "      <td>NaN</td>\n",
       "      <td>NaN</td>\n",
       "      <td>NaN</td>\n",
       "      <td>NaN</td>\n",
       "    </tr>\n",
       "    <tr>\n",
       "      <th>4</th>\n",
       "      <td>a00004.png</td>\n",
       "      <td>Scan_108_digit_0_num_1.png</td>\n",
       "      <td>108</td>\n",
       "      <td>0</td>\n",
       "      <td>BHDDB</td>\n",
       "      <td>Buet_Broncos</td>\n",
       "      <td>training-a</td>\n",
       "      <td>NaN</td>\n",
       "      <td>NaN</td>\n",
       "      <td>NaN</td>\n",
       "      <td>NaN</td>\n",
       "      <td>NaN</td>\n",
       "      <td>NaN</td>\n",
       "    </tr>\n",
       "  </tbody>\n",
       "</table>\n",
       "</div>"
      ],
      "text/plain": [
       "     filename           original filename  scanid  digit  \\\n",
       "0  a00000.png   Scan_58_digit_5_num_8.png      58      5   \n",
       "1  a00001.png   Scan_73_digit_3_num_5.png      73      3   \n",
       "2  a00002.png   Scan_18_digit_1_num_3.png      18      1   \n",
       "3  a00003.png  Scan_166_digit_7_num_3.png     166      7   \n",
       "4  a00004.png  Scan_108_digit_0_num_1.png     108      0   \n",
       "\n",
       "  database name original contributing team database name  num  districtid  \\\n",
       "0                  BHDDB      Buet_Broncos    training-a  NaN         NaN   \n",
       "1                  BHDDB      Buet_Broncos    training-a  NaN         NaN   \n",
       "2                  BHDDB      Buet_Broncos    training-a  NaN         NaN   \n",
       "3                  BHDDB      Buet_Broncos    training-a  NaN         NaN   \n",
       "4                  BHDDB      Buet_Broncos    training-a  NaN         NaN   \n",
       "\n",
       "   institutionid  gender  age  datestamp  \n",
       "0            NaN     NaN  NaN        NaN  \n",
       "1            NaN     NaN  NaN        NaN  \n",
       "2            NaN     NaN  NaN        NaN  \n",
       "3            NaN     NaN  NaN        NaN  \n",
       "4            NaN     NaN  NaN        NaN  "
      ]
     },
     "execution_count": 27,
     "metadata": {},
     "output_type": "execute_result"
    }
   ],
   "source": [
    "labels_df.head()"
   ]
  },
  {
   "cell_type": "code",
   "execution_count": 28,
   "id": "f4d694bd",
   "metadata": {
    "ExecuteTime": {
     "end_time": "2024-07-14T05:07:41.906432Z",
     "start_time": "2024-07-14T05:07:41.890716Z"
    }
   },
   "outputs": [],
   "source": [
    "# setting the filename as index so that it can be used as key to retrieve related label for each image\n",
    "labels_df.set_index('filename', inplace=True)"
   ]
  },
  {
   "cell_type": "code",
   "execution_count": 29,
   "id": "caf35586",
   "metadata": {
    "ExecuteTime": {
     "end_time": "2024-07-14T05:07:42.392347Z",
     "start_time": "2024-07-14T05:07:42.377924Z"
    }
   },
   "outputs": [
    {
     "data": {
      "text/html": [
       "<div>\n",
       "<style scoped>\n",
       "    .dataframe tbody tr th:only-of-type {\n",
       "        vertical-align: middle;\n",
       "    }\n",
       "\n",
       "    .dataframe tbody tr th {\n",
       "        vertical-align: top;\n",
       "    }\n",
       "\n",
       "    .dataframe thead th {\n",
       "        text-align: right;\n",
       "    }\n",
       "</style>\n",
       "<table border=\"1\" class=\"dataframe\">\n",
       "  <thead>\n",
       "    <tr style=\"text-align: right;\">\n",
       "      <th></th>\n",
       "      <th>original filename</th>\n",
       "      <th>scanid</th>\n",
       "      <th>digit</th>\n",
       "      <th>database name original</th>\n",
       "      <th>contributing team</th>\n",
       "      <th>database name</th>\n",
       "      <th>num</th>\n",
       "      <th>districtid</th>\n",
       "      <th>institutionid</th>\n",
       "      <th>gender</th>\n",
       "      <th>age</th>\n",
       "      <th>datestamp</th>\n",
       "    </tr>\n",
       "    <tr>\n",
       "      <th>filename</th>\n",
       "      <th></th>\n",
       "      <th></th>\n",
       "      <th></th>\n",
       "      <th></th>\n",
       "      <th></th>\n",
       "      <th></th>\n",
       "      <th></th>\n",
       "      <th></th>\n",
       "      <th></th>\n",
       "      <th></th>\n",
       "      <th></th>\n",
       "      <th></th>\n",
       "    </tr>\n",
       "  </thead>\n",
       "  <tbody>\n",
       "    <tr>\n",
       "      <th>a00000.png</th>\n",
       "      <td>Scan_58_digit_5_num_8.png</td>\n",
       "      <td>58</td>\n",
       "      <td>5</td>\n",
       "      <td>BHDDB</td>\n",
       "      <td>Buet_Broncos</td>\n",
       "      <td>training-a</td>\n",
       "      <td>NaN</td>\n",
       "      <td>NaN</td>\n",
       "      <td>NaN</td>\n",
       "      <td>NaN</td>\n",
       "      <td>NaN</td>\n",
       "      <td>NaN</td>\n",
       "    </tr>\n",
       "    <tr>\n",
       "      <th>a00001.png</th>\n",
       "      <td>Scan_73_digit_3_num_5.png</td>\n",
       "      <td>73</td>\n",
       "      <td>3</td>\n",
       "      <td>BHDDB</td>\n",
       "      <td>Buet_Broncos</td>\n",
       "      <td>training-a</td>\n",
       "      <td>NaN</td>\n",
       "      <td>NaN</td>\n",
       "      <td>NaN</td>\n",
       "      <td>NaN</td>\n",
       "      <td>NaN</td>\n",
       "      <td>NaN</td>\n",
       "    </tr>\n",
       "    <tr>\n",
       "      <th>a00002.png</th>\n",
       "      <td>Scan_18_digit_1_num_3.png</td>\n",
       "      <td>18</td>\n",
       "      <td>1</td>\n",
       "      <td>BHDDB</td>\n",
       "      <td>Buet_Broncos</td>\n",
       "      <td>training-a</td>\n",
       "      <td>NaN</td>\n",
       "      <td>NaN</td>\n",
       "      <td>NaN</td>\n",
       "      <td>NaN</td>\n",
       "      <td>NaN</td>\n",
       "      <td>NaN</td>\n",
       "    </tr>\n",
       "    <tr>\n",
       "      <th>a00003.png</th>\n",
       "      <td>Scan_166_digit_7_num_3.png</td>\n",
       "      <td>166</td>\n",
       "      <td>7</td>\n",
       "      <td>BHDDB</td>\n",
       "      <td>Buet_Broncos</td>\n",
       "      <td>training-a</td>\n",
       "      <td>NaN</td>\n",
       "      <td>NaN</td>\n",
       "      <td>NaN</td>\n",
       "      <td>NaN</td>\n",
       "      <td>NaN</td>\n",
       "      <td>NaN</td>\n",
       "    </tr>\n",
       "    <tr>\n",
       "      <th>a00004.png</th>\n",
       "      <td>Scan_108_digit_0_num_1.png</td>\n",
       "      <td>108</td>\n",
       "      <td>0</td>\n",
       "      <td>BHDDB</td>\n",
       "      <td>Buet_Broncos</td>\n",
       "      <td>training-a</td>\n",
       "      <td>NaN</td>\n",
       "      <td>NaN</td>\n",
       "      <td>NaN</td>\n",
       "      <td>NaN</td>\n",
       "      <td>NaN</td>\n",
       "      <td>NaN</td>\n",
       "    </tr>\n",
       "  </tbody>\n",
       "</table>\n",
       "</div>"
      ],
      "text/plain": [
       "                     original filename  scanid  digit database name original  \\\n",
       "filename                                                                       \n",
       "a00000.png   Scan_58_digit_5_num_8.png      58      5                  BHDDB   \n",
       "a00001.png   Scan_73_digit_3_num_5.png      73      3                  BHDDB   \n",
       "a00002.png   Scan_18_digit_1_num_3.png      18      1                  BHDDB   \n",
       "a00003.png  Scan_166_digit_7_num_3.png     166      7                  BHDDB   \n",
       "a00004.png  Scan_108_digit_0_num_1.png     108      0                  BHDDB   \n",
       "\n",
       "           contributing team database name  num  districtid  institutionid  \\\n",
       "filename                                                                     \n",
       "a00000.png      Buet_Broncos    training-a  NaN         NaN            NaN   \n",
       "a00001.png      Buet_Broncos    training-a  NaN         NaN            NaN   \n",
       "a00002.png      Buet_Broncos    training-a  NaN         NaN            NaN   \n",
       "a00003.png      Buet_Broncos    training-a  NaN         NaN            NaN   \n",
       "a00004.png      Buet_Broncos    training-a  NaN         NaN            NaN   \n",
       "\n",
       "            gender  age  datestamp  \n",
       "filename                            \n",
       "a00000.png     NaN  NaN        NaN  \n",
       "a00001.png     NaN  NaN        NaN  \n",
       "a00002.png     NaN  NaN        NaN  \n",
       "a00003.png     NaN  NaN        NaN  \n",
       "a00004.png     NaN  NaN        NaN  "
      ]
     },
     "execution_count": 29,
     "metadata": {},
     "output_type": "execute_result"
    }
   ],
   "source": [
    "labels_df.head()"
   ]
  },
  {
   "cell_type": "code",
   "execution_count": 33,
   "id": "1180885a",
   "metadata": {
    "ExecuteTime": {
     "end_time": "2024-07-14T05:12:37.866674Z",
     "start_time": "2024-07-14T05:08:25.994680Z"
    }
   },
   "outputs": [],
   "source": [
    "resize_size = 32 #same width and height\n",
    "images = []\n",
    "labels = []\n",
    "for img_path in dataset_training_image_paths:\n",
    "    key = img_path.split(os.sep)[-1]\n",
    "    img = cv2.imread(img_path, cv2.IMREAD_GRAYSCALE)\n",
    "    img = cv2.resize(img, (resize_size, resize_size))\n",
    "    images.append(img)\n",
    "    label = labels_df.loc[key]['digit']\n",
    "    labels.append(label)"
   ]
  },
  {
   "cell_type": "code",
   "execution_count": 42,
   "id": "05071f93",
   "metadata": {
    "ExecuteTime": {
     "end_time": "2024-07-14T05:16:12.560452Z",
     "start_time": "2024-07-14T05:16:12.512661Z"
    }
   },
   "outputs": [],
   "source": [
    "# converting to numpy array\n",
    "images = np.array(images)\n",
    "labels = np.array(labels)"
   ]
  },
  {
   "cell_type": "code",
   "execution_count": 43,
   "id": "75c8710b",
   "metadata": {
    "ExecuteTime": {
     "end_time": "2024-07-14T05:18:12.839159Z",
     "start_time": "2024-07-14T05:18:12.831301Z"
    }
   },
   "outputs": [],
   "source": [
    "# Now it's time to convert the whole process to a python function so that it can be easily accessed by other notebooks.\n",
    "# see necessary_functions.py"
   ]
  }
 ],
 "metadata": {
  "kernelspec": {
   "display_name": "dlai_specialization",
   "language": "python",
   "name": "dlai"
  },
  "language_info": {
   "codemirror_mode": {
    "name": "ipython",
    "version": 3
   },
   "file_extension": ".py",
   "mimetype": "text/x-python",
   "name": "python",
   "nbconvert_exporter": "python",
   "pygments_lexer": "ipython3",
   "version": "3.8.18"
  },
  "toc": {
   "base_numbering": 1,
   "nav_menu": {},
   "number_sections": true,
   "sideBar": true,
   "skip_h1_title": false,
   "title_cell": "Table of Contents",
   "title_sidebar": "Contents",
   "toc_cell": false,
   "toc_position": {},
   "toc_section_display": true,
   "toc_window_display": false
  },
  "varInspector": {
   "cols": {
    "lenName": 16,
    "lenType": 16,
    "lenVar": 40
   },
   "kernels_config": {
    "python": {
     "delete_cmd_postfix": "",
     "delete_cmd_prefix": "del ",
     "library": "var_list.py",
     "varRefreshCmd": "print(var_dic_list())"
    },
    "r": {
     "delete_cmd_postfix": ") ",
     "delete_cmd_prefix": "rm(",
     "library": "var_list.r",
     "varRefreshCmd": "cat(var_dic_list()) "
    }
   },
   "types_to_exclude": [
    "module",
    "function",
    "builtin_function_or_method",
    "instance",
    "_Feature"
   ],
   "window_display": false
  }
 },
 "nbformat": 4,
 "nbformat_minor": 5
}
